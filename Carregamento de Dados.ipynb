{
 "cells": [
  {
   "cell_type": "markdown",
   "metadata": {
    "colab_type": "text",
    "id": "JDM84H0wO5I_"
   },
   "source": [
    "# Carregamento de Dados\n",
    "\n",
    "Objetivos dessa aula:\n",
    "* Carregar dados reais do Pytorch\n",
    "* Implementar o fluxo de treinamento completo de uma rede\n",
    "\n",
    "Mas calma que essa ainda não é a linha de chegada. Ainda precisaremos falar do fluxo de validação."
   ]
  },
  {
   "cell_type": "markdown",
   "metadata": {
    "colab_type": "text",
    "id": "Qg_W2-tDlpz3"
   },
   "source": [
    "## Hiperparâmetros\n",
    "\n",
    "Agora que a brincadeira está ficando séria, que tal uma sugestão de como organizar o seu código? Para facilitar o entendimento e manutenção do código, mantenha sempre no início os seguintes elementos:\n",
    "* imports de pacotes\n",
    "* configuração de hiperparâmetros\n",
    "* definição do hardware padrão utilizado\n",
    "\n",
    "Nessa aula vamos trabalhar com dados reais, então **vamos precisar de GPU!** Então não se esqueça de mudar as configurações desse ambiente do colab. <br>\n",
    "Sugiro rodar esse mesmo código sem GPU em outro momento, só pra sentir o gostinho de como a GPU facilitou o uso de redes neurais."
   ]
  },
  {
   "cell_type": "code",
   "execution_count": 1,
   "metadata": {
    "colab": {
     "base_uri": "https://localhost:8080/",
     "height": 36
    },
    "colab_type": "code",
    "executionInfo": {
     "elapsed": 1072,
     "status": "ok",
     "timestamp": 1576693565914,
     "user": {
      "displayName": "Camila Laranjeira",
      "photoUrl": "https://lh3.googleusercontent.com/a-/AAuE7mCfgXxjTVPyGE0vH1sGz0gI39poyLbeKld6jeGHhEg=s64",
      "userId": "03895474106233302954"
     },
     "user_tz": 180
    },
    "id": "BwF0L2d6lH5O",
    "outputId": "e65d8631-eaf2-4f30-b604-7e6842a99ace"
   },
   "outputs": [
    {
     "name": "stdout",
     "output_type": "stream",
     "text": [
      "cuda\n"
     ]
    }
   ],
   "source": [
    "import torch\n",
    "from torch import nn, optim\n",
    "\n",
    "from torchvision import datasets\n",
    "from torchvision import transforms \n",
    "\n",
    "from torch.utils.data import DataLoader\n",
    "\n",
    "import matplotlib.pyplot as plt\n",
    "import numpy as np\n",
    "import time\n",
    "\n",
    "args = {\n",
    "    'batch_size': 5,\n",
    "    'num_workers': 4,\n",
    "    'num_classes': 10,\n",
    "    'lr': 1e-4,\n",
    "    'weight_decay': 5e-4,\n",
    "    'num_epochs': 30\n",
    "}\n",
    "\n",
    "if torch.cuda.is_available():\n",
    "  args['device'] = torch.device('cuda')\n",
    "else:\n",
    "  args['device'] = torch.device('cpu')\n",
    "\n",
    "print(args['device'])"
   ]
  },
  {
   "cell_type": "markdown",
   "metadata": {
    "colab_type": "text",
    "id": "bsFc4SPtRKM-"
   },
   "source": [
    "## Datasets\n",
    "\n",
    "O PyTorch possui dois pacotes que trazem datasets prontos para uso.\n",
    "\n",
    "* Torchtext: https://torchtext.readthedocs.io/en/latest/datasets.html\n",
    "* Torchvision: https://pytorch.org/docs/stable/torchvision/datasets.html\n",
    "\n",
    "Como os nomes indicam, são datasets de textos (text) e imagens (vision), duas aplicações onde redes neurais são muito bem sucedidas.\n",
    "\n",
    "Para aplicações com textos e outros tipos de séries temporais, o carregamento de dados possui nuances que dificultam o entendimento, portanto vamos concentrar no carregamento de imagens.\n",
    "\n",
    "### Torchvision datasets\n",
    "\n",
    "Para trabalhar com datasets do pacote torchvision, basta\n",
    "* Importar o pacote\n",
    "``` python \n",
    "from torchvision import datasets \n",
    "```\n",
    "* Carregar o dataset do seu interesse (ex: MNIST)\n",
    "``` python \n",
    "data = datasets.MNIST(root, train=True, transform=None, target_transform=None, download=False)\n",
    "```\n",
    "\n",
    "Documentação: https://pytorch.org/docs/stable/torchvision/datasets.html\n",
    "\n",
    "### Torchvision transforms\n",
    "\n",
    "Não vamos entrar em detalhes sobre transformações de imagens, mas para qualquer dataset é necessário transformá-lo em tensor para que possamos alimentar uma rede em pytorch. Isso pode ser feito no carregamento dos dados, basta:\n",
    "\n",
    "* Importar o pacote transforms\n",
    "``` python \n",
    "from torchvision import transforms \n",
    "```\n",
    "* preencher o parâmetro ```tranform``` do dataset com a função que converte para tensor.\n",
    "``` python \n",
    "transforms.ToTensor() \n",
    "```\n",
    "\n",
    "Pronto! Quando seu dado for carregado, ele passará pela transformação indicada no parâmetro ```tranform```, nesse caso, convertendo o dado para um tensor.\n",
    "\n",
    "Documentação: https://pytorch.org/docs/stable/torchvision/transforms.html\n"
   ]
  },
  {
   "cell_type": "code",
   "execution_count": 2,
   "metadata": {
    "colab": {
     "base_uri": "https://localhost:8080/",
     "height": 316
    },
    "colab_type": "code",
    "executionInfo": {
     "elapsed": 8314,
     "status": "ok",
     "timestamp": 1576689160593,
     "user": {
      "displayName": "Camila Laranjeira",
      "photoUrl": "https://lh3.googleusercontent.com/a-/AAuE7mCfgXxjTVPyGE0vH1sGz0gI39poyLbeKld6jeGHhEg=s64",
      "userId": "03895474106233302954"
     },
     "user_tz": 180
    },
    "id": "gTf4IYONRJvW",
    "outputId": "b8d48b29-9f8b-4945-bd83-5b7748246876"
   },
   "outputs": [
    {
     "name": "stdout",
     "output_type": "stream",
     "text": [
      "Downloading http://yann.lecun.com/exdb/mnist/train-images-idx3-ubyte.gz\n",
      "Failed to download (trying next):\n",
      "HTTP Error 404: Not Found\n",
      "\n",
      "Downloading https://ossci-datasets.s3.amazonaws.com/mnist/train-images-idx3-ubyte.gz\n",
      "Downloading https://ossci-datasets.s3.amazonaws.com/mnist/train-images-idx3-ubyte.gz to ./MNIST\\raw\\train-images-idx3-ubyte.gz\n"
     ]
    },
    {
     "name": "stderr",
     "output_type": "stream",
     "text": [
      "100.0%\n"
     ]
    },
    {
     "name": "stdout",
     "output_type": "stream",
     "text": [
      "Extracting ./MNIST\\raw\\train-images-idx3-ubyte.gz to ./MNIST\\raw\n",
      "\n",
      "Downloading http://yann.lecun.com/exdb/mnist/train-labels-idx1-ubyte.gz\n",
      "Failed to download (trying next):\n",
      "HTTP Error 404: Not Found\n",
      "\n",
      "Downloading https://ossci-datasets.s3.amazonaws.com/mnist/train-labels-idx1-ubyte.gz\n",
      "Downloading https://ossci-datasets.s3.amazonaws.com/mnist/train-labels-idx1-ubyte.gz to ./MNIST\\raw\\train-labels-idx1-ubyte.gz\n"
     ]
    },
    {
     "name": "stderr",
     "output_type": "stream",
     "text": [
      "100.0%\n"
     ]
    },
    {
     "name": "stdout",
     "output_type": "stream",
     "text": [
      "Extracting ./MNIST\\raw\\train-labels-idx1-ubyte.gz to ./MNIST\\raw\n",
      "\n",
      "Downloading http://yann.lecun.com/exdb/mnist/t10k-images-idx3-ubyte.gz\n",
      "Failed to download (trying next):\n",
      "HTTP Error 404: Not Found\n",
      "\n",
      "Downloading https://ossci-datasets.s3.amazonaws.com/mnist/t10k-images-idx3-ubyte.gz\n",
      "Downloading https://ossci-datasets.s3.amazonaws.com/mnist/t10k-images-idx3-ubyte.gz to ./MNIST\\raw\\t10k-images-idx3-ubyte.gz\n"
     ]
    },
    {
     "name": "stderr",
     "output_type": "stream",
     "text": [
      "100.0%\n"
     ]
    },
    {
     "name": "stdout",
     "output_type": "stream",
     "text": [
      "Extracting ./MNIST\\raw\\t10k-images-idx3-ubyte.gz to ./MNIST\\raw\n",
      "\n",
      "Downloading http://yann.lecun.com/exdb/mnist/t10k-labels-idx1-ubyte.gz\n",
      "Failed to download (trying next):\n",
      "HTTP Error 404: Not Found\n",
      "\n",
      "Downloading https://ossci-datasets.s3.amazonaws.com/mnist/t10k-labels-idx1-ubyte.gz\n",
      "Downloading https://ossci-datasets.s3.amazonaws.com/mnist/t10k-labels-idx1-ubyte.gz to ./MNIST\\raw\\t10k-labels-idx1-ubyte.gz\n"
     ]
    },
    {
     "name": "stderr",
     "output_type": "stream",
     "text": [
      "100.0%"
     ]
    },
    {
     "name": "stdout",
     "output_type": "stream",
     "text": [
      "Extracting ./MNIST\\raw\\t10k-labels-idx1-ubyte.gz to ./MNIST\\raw\n",
      "\n",
      "Amostras de treino: 60000\n",
      "Amostras de Teste:10000\n"
     ]
    },
    {
     "name": "stderr",
     "output_type": "stream",
     "text": [
      "\n"
     ]
    }
   ],
   "source": [
    "train_set = datasets.MNIST('./', \n",
    "                           train=True, \n",
    "                           transform=transforms.ToTensor(),\n",
    "                           download=True)\n",
    "\n",
    "test_set = datasets.MNIST('./', \n",
    "                           train=False, \n",
    "                           transform=transforms.ToTensor(),\n",
    "                           download=False)\n",
    "\n",
    "print('Amostras de treino: ' + str(len(train_set)) + '\\nAmostras de Teste:' + str(len(test_set)))"
   ]
  },
  {
   "cell_type": "markdown",
   "metadata": {
    "colab_type": "text",
    "id": "phD86edTqUsL"
   },
   "source": [
    "Cada dataset possui uma implementação específica internamente no pytorch. Verifique o ```type``` da variável que recebeu os dados e veja que se refere a uma classe específica do dataset.\n",
    "\n",
    "No entanto, o item de qualquer dataset **sempre será uma tupla ```(dado, rótulo)```**. "
   ]
  },
  {
   "cell_type": "code",
   "execution_count": 3,
   "metadata": {
    "colab": {
     "base_uri": "https://localhost:8080/",
     "height": 54
    },
    "colab_type": "code",
    "executionInfo": {
     "elapsed": 8306,
     "status": "ok",
     "timestamp": 1576689160596,
     "user": {
      "displayName": "Camila Laranjeira",
      "photoUrl": "https://lh3.googleusercontent.com/a-/AAuE7mCfgXxjTVPyGE0vH1sGz0gI39poyLbeKld6jeGHhEg=s64",
      "userId": "03895474106233302954"
     },
     "user_tz": 180
    },
    "id": "WCT6dYK-mDvO",
    "outputId": "2c5ecbc3-b9fc-46ff-9d33-933ce9f105e4"
   },
   "outputs": [
    {
     "name": "stdout",
     "output_type": "stream",
     "text": [
      "<class 'torchvision.datasets.mnist.MNIST'>\n",
      "<class 'tuple'>\n"
     ]
    }
   ],
   "source": [
    "print(type(train_set))\n",
    "print(type(train_set[0]))"
   ]
  },
  {
   "cell_type": "markdown",
   "metadata": {
    "colab_type": "text",
    "id": "faiKU3bAbCn4"
   },
   "source": [
    "Podemos então iterar no dataset para observar algumas amostras e seus rótulos."
   ]
  },
  {
   "cell_type": "code",
   "execution_count": 4,
   "metadata": {
    "colab": {
     "base_uri": "https://localhost:8080/",
     "height": 809
    },
    "colab_type": "code",
    "executionInfo": {
     "elapsed": 6515,
     "status": "ok",
     "timestamp": 1576689161028,
     "user": {
      "displayName": "Camila Laranjeira",
      "photoUrl": "https://lh3.googleusercontent.com/a-/AAuE7mCfgXxjTVPyGE0vH1sGz0gI39poyLbeKld6jeGHhEg=s64",
      "userId": "03895474106233302954"
     },
     "user_tz": 180
    },
    "id": "osYMtHZxm-xa",
    "outputId": "9e4eab7c-d57e-4487-e516-422bc98d589b"
   },
   "outputs": [
    {
     "data": {
      "image/png": "[encoded data removed]",
      "text/plain": [
       "<Figure size 640x480 with 1 Axes>"
      ]
     },
     "metadata": {},
     "output_type": "display_data"
    },
    {
     "data": {
      "image/png": "[encoded data removed]",
      "text/plain": [
       "<Figure size 640x480 with 1 Axes>"
      ]
     },
     "metadata": {},
     "output_type": "display_data"
    },
    {
     "data": {
      "image/png": "[encoded data removed]",
      "text/plain": [
       "<Figure size 640x480 with 1 Axes>"
      ]
     },
     "metadata": {},
     "output_type": "display_data"
    }
   ],
   "source": [
    "for i in range(3):\n",
    "  dado, rotulo = train_set[i]\n",
    "\n",
    "  plt.figure()\n",
    "  plt.imshow(dado[0])\n",
    "  plt.title('Rotulo: '+ str(rotulo))"
   ]
  },
  {
   "cell_type": "markdown",
   "metadata": {
    "colab_type": "text",
    "id": "3VrnShaaZXfF"
   },
   "source": [
    "Temos um total de 70 mil amostras, mas elas **ainda não estão carregadas na memória** (isso seria bastante custoso). A vantagem da classe ```Dataset``` do Pytorch é que as amostras só são carregadas quando necessário.\n",
    "\n",
    "Sugestão: experimente trocar a transformação do Dataset para\n",
    "```python\n",
    "transforms.RandomCrop(12)\n",
    "```\n",
    "Essa função realiza um recorte aleatório de ```12 x 12``` (pixels) na imagem. Ao carregar a mesma amostra múltiplas vezes, um novo recorte será feito. "
   ]
  },
  {
   "cell_type": "code",
   "execution_count": 5,
   "metadata": {
    "colab": {
     "base_uri": "https://localhost:8080/",
     "height": 809
    },
    "colab_type": "code",
    "executionInfo": {
     "elapsed": 952,
     "status": "ok",
     "timestamp": 1576689233841,
     "user": {
      "displayName": "Camila Laranjeira",
      "photoUrl": "https://lh3.googleusercontent.com/a-/AAuE7mCfgXxjTVPyGE0vH1sGz0gI39poyLbeKld6jeGHhEg=s64",
      "userId": "03895474106233302954"
     },
     "user_tz": 180
    },
    "id": "Iv72f6llTL31",
    "outputId": "f2db8ea8-8422-4518-bcb5-bf3933db8438"
   },
   "outputs": [
    {
     "data": {
      "image/png": "[encoded data removed]",
      "text/plain": [
       "<Figure size 640x480 with 1 Axes>"
      ]
     },
     "metadata": {},
     "output_type": "display_data"
    },
    {
     "data": {
      "image/png": "[encoded data removed]",
      "text/plain": [
       "<Figure size 640x480 with 1 Axes>"
      ]
     },
     "metadata": {},
     "output_type": "display_data"
    },
    {
     "data": {
      "image/png": "[encoded data removed]",
      "text/plain": [
       "<Figure size 640x480 with 1 Axes>"
      ]
     },
     "metadata": {},
     "output_type": "display_data"
    }
   ],
   "source": [
    "crop_set = datasets.MNIST('./', \n",
    "                           train=False, \n",
    "                           transform=transforms.RandomCrop(12),\n",
    "                           download=False)\n",
    "\n",
    "# Tuple (dado, rótulo)\n",
    "for i in range(3):\n",
    "  dado, rotulo = crop_set[0]\n",
    "  \n",
    "  plt.figure()\n",
    "  plt.imshow(dado)\n",
    "  plt.title('Rótulo: '+ str(rotulo))"
   ]
  },
  {
   "cell_type": "markdown",
   "metadata": {
    "colab_type": "text",
    "id": "BO8AVlT4bTQC"
   },
   "source": [
    "Em resumo, cada vez que indexamos um item do dataset, as seguintes operações são realizadas:\n",
    "* Amostra lida do arquivo e carregada como uma tupla ```(dado, rótulo)```\n",
    "* As transformações são aplicadas "
   ]
  },
  {
   "cell_type": "markdown",
   "metadata": {
    "colab_type": "text",
    "id": "yZq6iuq6lQ9N"
   },
   "source": [
    "## Dataloader\n",
    "\n",
    "Essa aqui é uma das principais razões do Pytorch ser o pacote preferido de muitos profissionais. O Dataloader gerencia muito bem o carregamento de dados para o treinamento de redes neurais, trazendo as funções: \n",
    "\n",
    "* Separação dos dados em batches\n",
    "* Embaralhando os dados\n",
    "* Carregando batches em paralelo utilizando threads\n",
    "\n",
    "O uso de threads no carregamento minimiza períodos ociosos de processamento, visto que a leitura de dados em arquivo é um grande gargalo de tempo.\n",
    "\n",
    "As três funcionalidades que acabamos de conhecer são controladas pelos parâmetros da chamada do DataLoader.\n",
    "```python\n",
    "loader = DataLoader(dataset, batch_size=4, shuffle=True, num_workers=4)\n",
    "```\n"
   ]
  },
  {
   "cell_type": "code",
   "execution_count": 6,
   "metadata": {
    "colab": {},
    "colab_type": "code",
    "id": "xuETOc64MynK"
   },
   "outputs": [],
   "source": [
    "train_loader = DataLoader(train_set, \n",
    "                          batch_size=args['batch_size'], \n",
    "                          shuffle=True, \n",
    "                          num_workers=args['num_workers'])\n",
    "\n",
    "test_loader = DataLoader(test_set, \n",
    "                          batch_size=args['batch_size'], \n",
    "                          shuffle=True, \n",
    "                          num_workers=args['num_workers'])"
   ]
  },
  {
   "cell_type": "markdown",
   "metadata": {
    "colab_type": "text",
    "id": "m_wBx0Uesrgu"
   },
   "source": [
    "O objeto retornado é um **iterador**, podendo ser utilizado para iterar em loops mas não suportando indexação."
   ]
  },
  {
   "cell_type": "code",
   "execution_count": 7,
   "metadata": {
    "colab": {
     "base_uri": "https://localhost:8080/",
     "height": 300
    },
    "colab_type": "code",
    "executionInfo": {
     "elapsed": 1085,
     "status": "ok",
     "timestamp": 1576689251196,
     "user": {
      "displayName": "Camila Laranjeira",
      "photoUrl": "https://lh3.googleusercontent.com/a-/AAuE7mCfgXxjTVPyGE0vH1sGz0gI39poyLbeKld6jeGHhEg=s64",
      "userId": "03895474106233302954"
     },
     "user_tz": 180
    },
    "id": "6zw1aAcsVCyp",
    "outputId": "06618a8f-23c1-41b8-ed0a-8f935d9e92df"
   },
   "outputs": [
    {
     "name": "stdout",
     "output_type": "stream",
     "text": [
      "torch.Size([5, 1, 28, 28]) torch.Size([5])\n"
     ]
    },
    {
     "data": {
      "image/png": "[encoded data removed]",
      "text/plain": [
       "<Figure size 640x480 with 1 Axes>"
      ]
     },
     "metadata": {},
     "output_type": "display_data"
    }
   ],
   "source": [
    "for batch in train_loader:\n",
    "  \n",
    "  dado, rotulo = batch\n",
    "  print(dado.size(), rotulo.size())\n",
    "\n",
    "  plt.imshow(dado[0][0])\n",
    "  plt.title('Rotulo: '+ str(rotulo[0]) )\n",
    "  break"
   ]
  },
  {
   "cell_type": "markdown",
   "metadata": {
    "colab_type": "text",
    "id": "jPCE1MC8yf02"
   },
   "source": [
    "## Implementando o MLP\n",
    "\n",
    "\n",
    "**Lembrete**: Multi-Layer Perceptrons trabalham somente com dados unidimensionais (vetores). Sendo a imagem com dimensionalidade ```(1, 28, 28)```, precisamos linearizá-la antes de alimentar a rede. Isso implica que o a entrada da rede terá ```input_size = 28 x 28 x 1 = 784```"
   ]
  },
  {
   "cell_type": "code",
   "execution_count": 8,
   "metadata": {
    "colab": {},
    "colab_type": "code",
    "id": "n-9spUHCUzBm"
   },
   "outputs": [],
   "source": [
    "class MLP(nn.Module):\n",
    "\n",
    "  def __init__(self, input_size, hidden_size, out_size):\n",
    "    super(MLP, self).__init__()\n",
    "\n",
    "    self.features  = nn.Sequential(\n",
    "                      nn.Linear(input_size, hidden_size),\n",
    "                      nn.ReLU(),\n",
    "                      nn.Linear(hidden_size, hidden_size),\n",
    "                      nn.ReLU()\n",
    "                    )\n",
    "    self.out     = nn.Linear(hidden_size, out_size)\n",
    "    self.softmax = nn.Softmax()\n",
    "\n",
    "  def forward(self, X):\n",
    "    \n",
    "    X = X.view(X.size(0), -1)\n",
    "\n",
    "    feature = self.features(X)\n",
    "    output  = self.softmax(self.out(feature))\n",
    "\n",
    "    return output\n",
    "\n",
    "input_size  = 28 * 28\n",
    "hidden_size = 128\n",
    "out_size    = 10 #classes\n",
    "\n",
    "torch.manual_seed(42)\n",
    "net = MLP(input_size, hidden_size, out_size).to(args['device']) #cast na GPU "
   ]
  },
  {
   "cell_type": "markdown",
   "metadata": {
    "colab_type": "text",
    "id": "sb7zTsWV1cyQ"
   },
   "source": [
    "## Definindo loss e otimizador"
   ]
  },
  {
   "cell_type": "code",
   "execution_count": 9,
   "metadata": {
    "colab": {},
    "colab_type": "code",
    "id": "nx4MecnX1e2E"
   },
   "outputs": [],
   "source": [
    "criterion = nn.CrossEntropyLoss().to(args['device'])\n",
    "optimizer = optim.Adam(net.parameters(), lr=args['lr'], weight_decay=args['weight_decay'])"
   ]
  },
  {
   "cell_type": "markdown",
   "metadata": {
    "colab_type": "text",
    "id": "1ujnT7rl0bjg"
   },
   "source": [
    "# Fluxo de Treinamento\n",
    "\n",
    "Agora vamos aplicar o conhecimento que acabamos de aprender!\n",
    "\n",
    "Relembrando o passo a passo do fluxo de treinamento:\n",
    "* Iterar nas épocas\n",
    "* Iterar nos batches\n",
    "* Cast dos dados no dispositivo de hardware\n",
    "* Forward na rede e cálculo da loss\n",
    "* Cálculo do gradiente e atualização dos pesos\n",
    "\n",
    "Para acompanhar a convergência do seu modelo (e garantir que tudo foi feito certinho), ao final de cada época podemos imprimir a média e o desvio padrão das perdas de cada iteração."
   ]
  },
  {
   "cell_type": "code",
   "execution_count": 10,
   "metadata": {
    "colab": {
     "base_uri": "https://localhost:8080/",
     "height": 617
    },
    "colab_type": "code",
    "executionInfo": {
     "elapsed": 1131491,
     "status": "ok",
     "timestamp": 1576694708836,
     "user": {
      "displayName": "Camila Laranjeira",
      "photoUrl": "https://lh3.googleusercontent.com/a-/AAuE7mCfgXxjTVPyGE0vH1sGz0gI39poyLbeKld6jeGHhEg=s64",
      "userId": "03895474106233302954"
     },
     "user_tz": 180
    },
    "id": "KNuBUUrS0VCn",
    "outputId": "b76fd026-186d-4e92-bf3e-4c849139ea5a"
   },
   "outputs": [
    {
     "name": "stderr",
     "output_type": "stream",
     "text": [
      "<>:25: SyntaxWarning: invalid escape sequence '\\-'\n",
      "<>:25: SyntaxWarning: invalid escape sequence '\\-'\n",
      "C:\\Users\\mathe\\AppData\\Local\\Temp\\ipykernel_24684\\278962469.py:25: SyntaxWarning: invalid escape sequence '\\-'\n",
      "  print(\"Epoca %d, Loss: %.4f +\\- %.4f, Tempo: %.2f\" % (epoch, epoch_loss.mean(), epoch_loss.std(), end-start) )\n",
      "C:\\Users\\mathe\\anaconda3\\envs\\gpu2\\Lib\\site-packages\\torch\\nn\\modules\\module.py:1736: UserWarning: Implicit dimension choice for softmax has been deprecated. Change the call to include dim=X as an argument.\n",
      "  return self._call_impl(*args, **kwargs)\n"
     ]
    },
    {
     "name": "stdout",
     "output_type": "stream",
     "text": [
      "Epoca 0, Loss: 1.8282 +\\- 0.2220, Tempo: 25.92\n",
      "Epoca 1, Loss: 1.9606 +\\- 0.2268, Tempo: 26.95\n",
      "Epoca 2, Loss: 2.0282 +\\- 0.2292, Tempo: 26.76\n",
      "Epoca 3, Loss: 2.0771 +\\- 0.2191, Tempo: 26.21\n",
      "Epoca 4, Loss: 2.1672 +\\- 0.2024, Tempo: 25.78\n",
      "Epoca 5, Loss: 2.1889 +\\- 0.2005, Tempo: 26.02\n",
      "Epoca 6, Loss: 2.2065 +\\- 0.1953, Tempo: 27.25\n",
      "Epoca 7, Loss: 2.2424 +\\- 0.1840, Tempo: 26.24\n",
      "Epoca 8, Loss: 2.2669 +\\- 0.1769, Tempo: 26.35\n",
      "Epoca 9, Loss: 2.2758 +\\- 0.1762, Tempo: 26.12\n",
      "Epoca 10, Loss: 2.2790 +\\- 0.1707, Tempo: 25.99\n",
      "Epoca 11, Loss: 2.2799 +\\- 0.1745, Tempo: 26.20\n",
      "Epoca 12, Loss: 2.2807 +\\- 0.1736, Tempo: 26.00\n",
      "Epoca 13, Loss: 2.2811 +\\- 0.1726, Tempo: 26.08\n",
      "Epoca 14, Loss: 2.2815 +\\- 0.1710, Tempo: 26.88\n",
      "Epoca 15, Loss: 2.2820 +\\- 0.1699, Tempo: 28.72\n",
      "Epoca 16, Loss: 2.2823 +\\- 0.1717, Tempo: 29.35\n",
      "Epoca 17, Loss: 2.2826 +\\- 0.1719, Tempo: 28.26\n",
      "Epoca 18, Loss: 2.2829 +\\- 0.1711, Tempo: 26.37\n",
      "Epoca 19, Loss: 2.2832 +\\- 0.1706, Tempo: 26.32\n",
      "Epoca 20, Loss: 2.2833 +\\- 0.1712, Tempo: 29.85\n",
      "Epoca 21, Loss: 2.2835 +\\- 0.1715, Tempo: 31.90\n",
      "Epoca 22, Loss: 2.2836 +\\- 0.1712, Tempo: 31.49\n",
      "Epoca 23, Loss: 2.2837 +\\- 0.1714, Tempo: 37.09\n",
      "Epoca 24, Loss: 2.2838 +\\- 0.1716, Tempo: 36.30\n",
      "Epoca 25, Loss: 2.2839 +\\- 0.1700, Tempo: 36.93\n",
      "Epoca 26, Loss: 2.2841 +\\- 0.1722, Tempo: 37.49\n",
      "Epoca 27, Loss: 2.2842 +\\- 0.1701, Tempo: 39.35\n",
      "Epoca 28, Loss: 2.2843 +\\- 0.1709, Tempo: 40.97\n",
      "Epoca 29, Loss: 2.2844 +\\- 0.1689, Tempo: 39.28\n"
     ]
    }
   ],
   "source": [
    "for epoch in range(args['num_epochs']):\n",
    "  start = time.time()\n",
    "\n",
    "  epoch_loss = []\n",
    "  for batch in train_loader:\n",
    "    \n",
    "    dado, rotulo = batch\n",
    "\n",
    "    # Cast na GPU\n",
    "    dado   = dado.to(args['device'])\n",
    "    rotulo = rotulo.to(args['device'])\n",
    "\n",
    "    # Forward \n",
    "    pred = net(dado)\n",
    "    loss = criterion(pred, rotulo)\n",
    "    epoch_loss.append(loss.cpu().data)\n",
    "\n",
    "    # Backward\n",
    "    loss.backward()\n",
    "    optimizer.step()\n",
    "\n",
    "  epoch_loss = np.asarray(epoch_loss)\n",
    "  end = time.time()\n",
    "\n",
    "  print(\"Epoca %d, Loss: %.4f +\\- %.4f, Tempo: %.2f\" % (epoch, epoch_loss.mean(), epoch_loss.std(), end-start) )\n"
   ]
  },
  {
   "cell_type": "markdown",
   "metadata": {
    "colab_type": "text",
    "id": "WVQ3sTGC3SSL"
   },
   "source": [
    "### Interpretando a qualidade do modelo\n",
    "\n",
    "Apesar da loss ser o critério utilizado na otimização do modelo, seu valor é pouco interpretável por seres humanos.\n",
    "\n",
    "* *A loss está melhorando, mas como saber se meu modelo está bom mesmo?*\n",
    "\n",
    "Podemos calcular uma métrica mais interpretável. No caso da classificação, temos a acurácia como métrica mais simples de avaliação. Esse valor será usado exclusivamente para visualizar a qualidade do modelo, não interferindo no treinamento da rede. \n",
    "\n",
    "Na célula anterior utilizaremos a biblioteca Scikit-Learn para calcular a acurácia, para isso basta\n",
    "* Armazenar os rótulos de cada iteração\n",
    "* Calcular a predição a partir da saída da rede\n",
    "* Utilizar a função do sklearn para cálculo da acurácia\n",
    "```python\n",
    "metrics.accuracy_score(rotulos, ypreds)\n",
    "```\n",
    "\n",
    "Documentação: https://scikit-learn.org/stable/modules/generated/sklearn.metrics.accuracy_score.html"
   ]
  }
 ],
 "metadata": {
  "accelerator": "GPU",
  "colab": {
   "collapsed_sections": [],
   "name": "Carregamento de Dados.ipynb",
   "provenance": []
  },
  "kernelspec": {
   "display_name": "gpu2",
   "language": "python",
   "name": "gpu"
  },
  "language_info": {
   "codemirror_mode": {
    "name": "ipython",
    "version": 3
   },
   "file_extension": ".py",
   "mimetype": "text/x-python",
   "name": "python",
   "nbconvert_exporter": "python",
   "pygments_lexer": "ipython3",
   "version": "3.12.9"
  }
 },
 "nbformat": 4,
 "nbformat_minor": 4
}
